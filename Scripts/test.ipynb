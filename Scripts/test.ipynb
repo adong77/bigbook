{
 "cells": [
  {
   "cell_type": "code",
   "execution_count": null,
   "metadata": {},
   "outputs": [],
   "source": [
    "%%time\n",
    "print(\"Hello World!\")"
   ]
  },
  {
   "cell_type": "markdown",
   "metadata": {},
   "source": [
    "* 魔法命令：%%time - 测量代码运行时间; %%timeit - 测量代码运行时间，重复执行多次，取平均值;\n",
    "* 魔法命令都以%或%%开头，以%开头的为行命令，以%%开头的为单元命令。行命令只对命令所在的行有效，而单元命令则必须出现在单元的第一行，对整个单元的代码进行处理"
   ]
  },
  {
   "cell_type": "code",
   "execution_count": 8,
   "metadata": {},
   "outputs": [
    {
     "name": "stdout",
     "output_type": "stream",
     "text": [
      "1731142784.9048197\n",
      "1 s ± 184 μs per loop (mean ± std. dev. of 7 runs, 1 loop each)\n"
     ]
    }
   ],
   "source": [
    "import time\n",
    "print(time.time())\n",
    "%timeit time.sleep(1)"
   ]
  },
  {
   "cell_type": "code",
   "execution_count": 2,
   "metadata": {},
   "outputs": [
    {
     "data": {
      "text/html": [
       "<marquee style='width: 30%; color: blue;'> Hello Python </marquee>\n"
      ],
      "text/plain": [
       "<IPython.core.display.HTML object>"
      ]
     },
     "metadata": {},
     "output_type": "display_data"
    }
   ],
   "source": [
    "%%HTML\n",
    "<marquee style='width: 30%; color: blue;'> Hello Python </marquee>"
   ]
  },
  {
   "cell_type": "code",
   "execution_count": null,
   "metadata": {},
   "outputs": [],
   "source": [
    "import matplotlib.pyplot as plt\n",
    "import numpy as np\n",
    "import pandas as pd"
   ]
  },
  {
   "cell_type": "code",
   "execution_count": null,
   "metadata": {},
   "outputs": [],
   "source": [
    "# 线性回归分析\n",
    "# 线性回归是确定两种或两种以上变量之间互相依赖的定量关系的一种统计分析方法。根据自变量的个数，可以将线性回归分为一元线性回归和多元线性回归分析。\n",
    "import pandas as pd\n",
    "data= pd.read_excel('D:/shujufenxi/作物表型记录本.xlsx',sheet_name=0,index_col='序号')\n",
    "print(data.head())\n",
    "\n",
    "# 选中自变量与因变量的数据，x为自变量，y为因变量\n",
    "x=data[['人工成本费(元)']]\n",
    "y=data[['产量(公斤)']]\n",
    "# 确定线性回归分析的类型\n",
    "corr=data.corr()\n",
    "print(corr)\n",
    "#可以看到人工成本与产量之间的相关系数为0.965321，为强相关，随后利用Matplotlib模块进行绘制散点图，代码演示如下：\n",
    "# 绘制散点图\n",
    "import matplotlib.pyplot as plt\n",
    "plt.rcParams['font.sans-serif']=['SimHei']\n",
    "plt.rcParams['axes.unicode_minus']=False\n",
    "plt.scatter(x,y)\n",
    "plt.xlabel('人工成本费(元)')\n",
    "plt.ylabel('产量(公斤)')\n",
    "plt.show()\n",
    "\n",
    "#建立回归分析模型\n",
    "## 需下载Scikit-Learn模块，使用LinearRegression（）函数建立线性回归分析模型\n",
    "from sklearn.linear_model import LinearRegression  \n",
    "Model=LinearRegression()\n",
    "Model.fit(x,y)\n",
    "#检验线性回归分析模型的拟合程度\n",
    "score=Model.score(x,y)\n",
    "print(score)\n",
    "# 可以看出大多数散点还是比较靠近这条直线的，说明模型很好的捕捉到了数据特征，可以算是恰当拟合。\n",
    "plt.scatter(x,y)\n",
    "plt.plot(x,Model.predict(x))\n",
    "plt.xlabel('人工成本费(元)')\n",
    "plt.ylabel('产量(公斤)')\n",
    "plt.show()\n",
    "\n",
    "#利用线性回归分析进行预测\n",
    "# 预测,也可以进行同时预测多个，如下\n",
    "y=Model.predict([[6600],[15000],[8888]])\n",
    "print(y)"
   ]
  }
 ],
 "metadata": {
  "kernelspec": {
   "display_name": "Python 3",
   "language": "python",
   "name": "python3"
  },
  "language_info": {
   "codemirror_mode": {
    "name": "ipython",
    "version": 3
   },
   "file_extension": ".py",
   "mimetype": "text/x-python",
   "name": "python",
   "nbconvert_exporter": "python",
   "pygments_lexer": "ipython3",
   "version": "3.12.4"
  }
 },
 "nbformat": 4,
 "nbformat_minor": 2
}
